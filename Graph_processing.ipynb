{
  "nbformat": 4,
  "nbformat_minor": 0,
  "metadata": {
    "colab": {
      "provenance": [],
      "gpuType": "T4"
    },
    "kernelspec": {
      "name": "python3",
      "display_name": "Python 3"
    },
    "language_info": {
      "name": "python"
    },
    "accelerator": "GPU"
  },
  "cells": [
    {
      "cell_type": "code",
      "source": [
        "!pip install pyspark\n",
        "!pip install graphframes"
      ],
      "metadata": {
        "id": "dsvCC5v12oL9",
        "colab": {
          "base_uri": "https://localhost:8080/"
        },
        "outputId": "d5008b11-02d5-4ee9-c403-969e9d68b7ff"
      },
      "execution_count": null,
      "outputs": [
        {
          "output_type": "stream",
          "name": "stdout",
          "text": [
            "Requirement already satisfied: pyspark in /usr/local/lib/python3.11/dist-packages (3.5.5)\n",
            "Requirement already satisfied: py4j==0.10.9.7 in /usr/local/lib/python3.11/dist-packages (from pyspark) (0.10.9.7)\n",
            "Collecting graphframes\n",
            "  Downloading graphframes-0.6-py2.py3-none-any.whl.metadata (934 bytes)\n",
            "Requirement already satisfied: numpy in /usr/local/lib/python3.11/dist-packages (from graphframes) (1.26.4)\n",
            "Collecting nose (from graphframes)\n",
            "  Downloading nose-1.3.7-py3-none-any.whl.metadata (1.7 kB)\n",
            "Downloading graphframes-0.6-py2.py3-none-any.whl (18 kB)\n",
            "Downloading nose-1.3.7-py3-none-any.whl (154 kB)\n",
            "\u001b[2K   \u001b[90m━━━━━━━━━━━━━━━━━━━━━━━━━━━━━━━━━━━━━━━━\u001b[0m \u001b[32m154.7/154.7 kB\u001b[0m \u001b[31m14.4 MB/s\u001b[0m eta \u001b[36m0:00:00\u001b[0m\n",
            "\u001b[?25hInstalling collected packages: nose, graphframes\n",
            "Successfully installed graphframes-0.6 nose-1.3.7\n"
          ]
        }
      ]
    },
    {
      "cell_type": "code",
      "execution_count": null,
      "metadata": {
        "id": "XGvsOUsA1mc0",
        "colab": {
          "base_uri": "https://localhost:8080/"
        },
        "outputId": "3cd0a081-0880-4cde-d8a5-8f4db28b5726"
      },
      "outputs": [
        {
          "output_type": "stream",
          "name": "stderr",
          "text": [
            "/usr/local/lib/python3.11/dist-packages/pyspark/sql/context.py:113: FutureWarning: Deprecated in 3.0.0. Use SparkSession.builder.getOrCreate() instead.\n",
            "  warnings.warn(\n"
          ]
        }
      ],
      "source": [
        "from pyspark import SparkConf, SparkContext\n",
        "from pyspark.sql import SQLContext, SparkSession\n",
        "from graphframes import *\n",
        "conf = SparkConf().setAppName('graph_processing').set('spark.jars.packages',\n",
        "'graphframes:graphframes:0.8.1-spark3.0-s_2.12')\n",
        "sc = SparkContext(conf=conf)\n",
        "sqlContext = SQLContext(sc)\n",
        "spark = SparkSession(sc)"
      ]
    },
    {
      "cell_type": "markdown",
      "source": [
        "# Assignment\n"
      ],
      "metadata": {
        "id": "Wo2iAt5jK1cI"
      }
    },
    {
      "cell_type": "code",
      "source": [
        "\n",
        "users_df = spark.read.csv(\"/content/user.txt\", header=True, inferSchema=True)\n",
        "relationships_df = spark.read.csv(\"/content/relationships.txt\", header=True, inferSchema=True)\n",
        "\n",
        "\n",
        "g = GraphFrame(users_df, relationships_df)\n"
      ],
      "metadata": {
        "id": "FVdIQh40K2U9"
      },
      "execution_count": null,
      "outputs": []
    },
    {
      "cell_type": "markdown",
      "source": [
        "# 1 Find all triadic closures (fully connected triplets)"
      ],
      "metadata": {
        "id": "-ZbZV02RRSB1"
      }
    },
    {
      "cell_type": "code",
      "source": [
        "triadic_closures = g.find(\"(a)-[]->(b); (b)-[]->(c); (c)-[]->(a)\")\n",
        "print(\"Triadic Closures:\")\n",
        "triadic_closures.show()"
      ],
      "metadata": {
        "colab": {
          "base_uri": "https://localhost:8080/"
        },
        "id": "xBacVQrrOeyG",
        "outputId": "7f70f9fc-3158-4579-cd4f-02d6f9bde907"
      },
      "execution_count": null,
      "outputs": [
        {
          "output_type": "stream",
          "name": "stdout",
          "text": [
            "Triadic Closures:\n",
            "+----------+----------+----------+\n",
            "|         a|         b|         c|\n",
            "+----------+----------+----------+\n",
            "| {1, John}| {2, Mary}|{4, Karen}|\n",
            "| {1, John}| {2, Mary}|{3, Steve}|\n",
            "| {2, Mary}|{3, Steve}| {1, John}|\n",
            "| {2, Mary}|{3, Steve}| {5, Paul}|\n",
            "|{3, Steve}|{4, Karen}| {1, John}|\n",
            "|{4, Karen}| {5, Paul}| {2, Mary}|\n",
            "| {5, Paul}| {1, John}|{3, Steve}|\n",
            "| {1, John}|{6, Alice}|  {8, Eve}|\n",
            "| {1, John}|{6, Alice}|  {8, Eve}|\n",
            "|{6, Alice}|  {7, Bob}| {9, Mike}|\n",
            "|  {8, Eve}| {1, John}|{6, Alice}|\n",
            "| {9, Mike}|{6, Alice}|  {7, Bob}|\n",
            "| {1, John}|{3, Steve}| {5, Paul}|\n",
            "| {1, John}|{3, Steve}| {5, Paul}|\n",
            "| {1, John}|{3, Steve}|{4, Karen}|\n",
            "| {2, Mary}|{4, Karen}| {1, John}|\n",
            "| {2, Mary}|{4, Karen}| {5, Paul}|\n",
            "|{3, Steve}| {5, Paul}| {1, John}|\n",
            "|{3, Steve}| {5, Paul}| {2, Mary}|\n",
            "|{3, Steve}| {5, Paul}| {1, John}|\n",
            "+----------+----------+----------+\n",
            "only showing top 20 rows\n",
            "\n"
          ]
        }
      ]
    },
    {
      "cell_type": "markdown",
      "source": [
        "# 2 Identify chain patterns (A → B → C)"
      ],
      "metadata": {
        "id": "PCnC9fUvRbEn"
      }
    },
    {
      "cell_type": "code",
      "source": [
        "chain_patterns = g.find(\"(a)-[]->(b); (b)-[]->(c)\")\n",
        "print(\"Chain Patterns:\")\n",
        "chain_patterns.show()"
      ],
      "metadata": {
        "colab": {
          "base_uri": "https://localhost:8080/"
        },
        "id": "HG7O0tmBOj5H",
        "outputId": "ef6bfa8f-df5a-484e-8cba-e89bec36998f"
      },
      "execution_count": null,
      "outputs": [
        {
          "output_type": "stream",
          "name": "stdout",
          "text": [
            "Chain Patterns:\n",
            "+----------+----------+----------+\n",
            "|         a|         b|         c|\n",
            "+----------+----------+----------+\n",
            "| {1, John}| {2, Mary}|{4, Karen}|\n",
            "| {1, John}| {2, Mary}|{3, Steve}|\n",
            "| {2, Mary}|{3, Steve}| {1, John}|\n",
            "| {2, Mary}|{3, Steve}| {5, Paul}|\n",
            "| {2, Mary}|{3, Steve}|{4, Karen}|\n",
            "|{3, Steve}|{4, Karen}| {1, John}|\n",
            "|{3, Steve}|{4, Karen}| {5, Paul}|\n",
            "|{4, Karen}| {5, Paul}| {1, John}|\n",
            "|{4, Karen}| {5, Paul}| {2, Mary}|\n",
            "|{4, Karen}| {5, Paul}| {1, John}|\n",
            "| {5, Paul}| {1, John}|{3, Steve}|\n",
            "| {5, Paul}| {1, John}|{6, Alice}|\n",
            "| {5, Paul}| {1, John}| {2, Mary}|\n",
            "| {1, John}|{6, Alice}|  {8, Eve}|\n",
            "| {1, John}|{6, Alice}|  {7, Bob}|\n",
            "|{6, Alice}|  {7, Bob}| {9, Mike}|\n",
            "|{6, Alice}|  {7, Bob}|  {8, Eve}|\n",
            "|  {7, Bob}|  {8, Eve}| {1, John}|\n",
            "|  {7, Bob}|  {8, Eve}| {1, John}|\n",
            "|  {8, Eve}| {1, John}|{3, Steve}|\n",
            "+----------+----------+----------+\n",
            "only showing top 20 rows\n",
            "\n"
          ]
        }
      ]
    },
    {
      "cell_type": "markdown",
      "source": [
        "#3 Identify one-way following patterns (A → B, but B ⊁ A)"
      ],
      "metadata": {
        "id": "1hVXsRIzRn-0"
      }
    },
    {
      "cell_type": "code",
      "source": [
        "forward_follows = g.find(\"(a)-[e]->(b)\").selectExpr(\"a.id as src\", \"b.id as dst\")\n",
        "reverse_follows = g.find(\"(b)-[e2]->(a)\").selectExpr(\"b.id as src\", \"a.id as dst\")\n",
        "\n",
        "\n",
        "one_way_follows = forward_follows.join(\n",
        "    reverse_follows,\n",
        "    on=[\"src\", \"dst\"],\n",
        "    how=\"left_anti\"\n",
        ")\n",
        "\n",
        "print(\"One-way Follows:\")\n",
        "one_way_follows.show()"
      ],
      "metadata": {
        "colab": {
          "base_uri": "https://localhost:8080/"
        },
        "id": "yq52uzDSOtmE",
        "outputId": "a742123b-9976-409f-91a8-a22be97f7824"
      },
      "execution_count": null,
      "outputs": [
        {
          "output_type": "stream",
          "name": "stdout",
          "text": [
            "One-way Follows:\n",
            "+---+---+\n",
            "|src|dst|\n",
            "+---+---+\n",
            "+---+---+\n",
            "\n"
          ]
        }
      ]
    },
    {
      "cell_type": "markdown",
      "source": [
        "# 4 Find the user with the highest followers (in-degree)"
      ],
      "metadata": {
        "id": "JAj2WRD1Ruro"
      }
    },
    {
      "cell_type": "code",
      "source": [
        "max_followers = g.inDegrees.orderBy(\"inDegree\", ascending=False)\n",
        "print(\"User with Highest Followers:\")\n",
        "max_followers.show(1)"
      ],
      "metadata": {
        "colab": {
          "base_uri": "https://localhost:8080/"
        },
        "id": "MH8r94b0OwpL",
        "outputId": "918bed7f-551e-4d36-d5ed-ad67eae3da5f"
      },
      "execution_count": null,
      "outputs": [
        {
          "output_type": "stream",
          "name": "stdout",
          "text": [
            "User with Highest Followers:\n",
            "+---+--------+\n",
            "| id|inDegree|\n",
            "+---+--------+\n",
            "|  1|       6|\n",
            "+---+--------+\n",
            "only showing top 1 row\n",
            "\n"
          ]
        }
      ]
    },
    {
      "cell_type": "markdown",
      "source": [
        "# 5 Find the user with the lowest number of friends (out-degree)"
      ],
      "metadata": {
        "id": "Yag1FnTUR_rH"
      }
    },
    {
      "cell_type": "code",
      "source": [
        "min_friends = g.outDegrees.orderBy(\"outDegree\", ascending=True)\n",
        "print(\"User with Lowest Number of Friends:\")\n",
        "min_friends.show(1)"
      ],
      "metadata": {
        "colab": {
          "base_uri": "https://localhost:8080/"
        },
        "id": "ag4eInoVO0-7",
        "outputId": "e58c1b48-bc99-4c92-8698-c38ac21db4d7"
      },
      "execution_count": null,
      "outputs": [
        {
          "output_type": "stream",
          "name": "stdout",
          "text": [
            "User with Lowest Number of Friends:\n",
            "+---+---------+\n",
            "| id|outDegree|\n",
            "+---+---------+\n",
            "|  9|        2|\n",
            "+---+---------+\n",
            "only showing top 1 row\n",
            "\n"
          ]
        }
      ]
    },
    {
      "cell_type": "markdown",
      "source": [
        "# 6 Detect communities using Label Propagation Algorithm (LPA)"
      ],
      "metadata": {
        "id": "ScGomUrPSECI"
      }
    },
    {
      "cell_type": "code",
      "source": [
        "spark.sparkContext.setCheckpointDir(\"/tmp/checkpoints\")\n",
        "lpa_result = g.labelPropagation(maxIter=5)\n",
        "print(\"Communities Detected:\")\n",
        "lpa_result.show()"
      ],
      "metadata": {
        "colab": {
          "base_uri": "https://localhost:8080/"
        },
        "id": "U-rurRAsO3Zw",
        "outputId": "9c0c939a-466f-4986-902c-91f6b1944309"
      },
      "execution_count": null,
      "outputs": [
        {
          "output_type": "stream",
          "name": "stdout",
          "text": [
            "Communities Detected:\n",
            "+---+-----+-----+\n",
            "| id| name|label|\n",
            "+---+-----+-----+\n",
            "|  4|Karen|    8|\n",
            "|  1| John|    8|\n",
            "|  6|Alice|    8|\n",
            "|  3|Steve|    8|\n",
            "|  7|  Bob|    8|\n",
            "|  9| Mike|    7|\n",
            "|  8|  Eve|    1|\n",
            "|  5| Paul|    8|\n",
            "|  2| Mary|    8|\n",
            "+---+-----+-----+\n",
            "\n"
          ]
        }
      ]
    }
  ]
}